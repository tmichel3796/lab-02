{
 "cells": [
  {
   "cell_type": "code",
   "execution_count": 35,
   "id": "28d26578-18b6-4812-b59f-45dbee604644",
   "metadata": {},
   "outputs": [],
   "source": [
    "import polars as pl\n",
    "import os\n",
    "import glob\n"
   ]
  },
  {
   "cell_type": "code",
   "execution_count": 228,
   "id": "82509229-42c6-4c82-b0fb-a097daebfdae",
   "metadata": {},
   "outputs": [
    {
     "data": {
      "text/plain": [
       "'/mnt/c/users/xu6189ne/OneDrive - Minnesota State/Desktop/my_repos/lab 1.2'"
      ]
     },
     "execution_count": 228,
     "metadata": {},
     "output_type": "execute_result"
    }
   ],
   "source": [
    "os.getcwd()\n"
   ]
  },
  {
   "cell_type": "code",
   "execution_count": 231,
   "id": "48233c32-0bb5-4eed-8da8-b1272c861e2b",
   "metadata": {},
   "outputs": [
    {
     "data": {
      "text/html": [
       "<div><style>\n",
       ".dataframe > thead > tr,\n",
       ".dataframe > tbody > tr {\n",
       "  text-align: right;\n",
       "  white-space: pre-wrap;\n",
       "}\n",
       "</style>\n",
       "<small>shape: (10, 30)</small><table border=\"1\" class=\"dataframe\"><thead><tr><th>playerID</th><th>yearID</th><th>stint</th><th>teamID</th><th>lgID</th><th>W</th><th>L</th><th>G</th><th>GS</th><th>CG</th><th>SHO</th><th>SV</th><th>IPouts</th><th>H</th><th>ER</th><th>HR</th><th>BB</th><th>SO</th><th>BAOpp</th><th>ERA</th><th>IBB</th><th>WP</th><th>HBP</th><th>BK</th><th>BFP</th><th>GF</th><th>R</th><th>SH</th><th>SF</th><th>GIDP</th></tr><tr><td>str</td><td>i64</td><td>i64</td><td>str</td><td>str</td><td>i64</td><td>i64</td><td>i64</td><td>i64</td><td>i64</td><td>i64</td><td>i64</td><td>i64</td><td>i64</td><td>i64</td><td>i64</td><td>i64</td><td>i64</td><td>f64</td><td>f64</td><td>i64</td><td>i64</td><td>i64</td><td>i64</td><td>i64</td><td>i64</td><td>i64</td><td>i64</td><td>i64</td><td>i64</td></tr></thead><tbody><tr><td>&quot;aardsda01&quot;</td><td>2004</td><td>1</td><td>&quot;SFN&quot;</td><td>&quot;NL&quot;</td><td>1</td><td>0</td><td>11</td><td>0</td><td>0</td><td>0</td><td>0</td><td>32</td><td>20</td><td>8</td><td>1</td><td>10</td><td>5</td><td>0.417</td><td>6.75</td><td>0</td><td>0</td><td>2</td><td>0</td><td>61</td><td>5</td><td>8</td><td>0</td><td>1</td><td>1</td></tr><tr><td>&quot;aardsda01&quot;</td><td>2006</td><td>1</td><td>&quot;CHN&quot;</td><td>&quot;NL&quot;</td><td>3</td><td>0</td><td>45</td><td>0</td><td>0</td><td>0</td><td>0</td><td>159</td><td>41</td><td>24</td><td>9</td><td>28</td><td>49</td><td>0.214</td><td>4.08</td><td>0</td><td>1</td><td>1</td><td>0</td><td>225</td><td>9</td><td>25</td><td>1</td><td>3</td><td>2</td></tr><tr><td>&quot;aardsda01&quot;</td><td>2007</td><td>1</td><td>&quot;CHA&quot;</td><td>&quot;AL&quot;</td><td>2</td><td>1</td><td>25</td><td>0</td><td>0</td><td>0</td><td>0</td><td>97</td><td>39</td><td>23</td><td>4</td><td>17</td><td>36</td><td>0.3</td><td>6.4</td><td>3</td><td>2</td><td>1</td><td>0</td><td>151</td><td>7</td><td>24</td><td>2</td><td>1</td><td>1</td></tr><tr><td>&quot;aardsda01&quot;</td><td>2008</td><td>1</td><td>&quot;BOS&quot;</td><td>&quot;AL&quot;</td><td>4</td><td>2</td><td>47</td><td>0</td><td>0</td><td>0</td><td>0</td><td>146</td><td>49</td><td>30</td><td>4</td><td>35</td><td>49</td><td>0.268</td><td>5.55</td><td>2</td><td>3</td><td>5</td><td>0</td><td>228</td><td>7</td><td>32</td><td>3</td><td>2</td><td>4</td></tr><tr><td>&quot;aardsda01&quot;</td><td>2009</td><td>1</td><td>&quot;SEA&quot;</td><td>&quot;AL&quot;</td><td>3</td><td>6</td><td>73</td><td>0</td><td>0</td><td>0</td><td>38</td><td>214</td><td>49</td><td>20</td><td>4</td><td>34</td><td>80</td><td>0.19</td><td>2.52</td><td>3</td><td>2</td><td>0</td><td>0</td><td>296</td><td>53</td><td>23</td><td>2</td><td>1</td><td>2</td></tr><tr><td>&quot;aardsda01&quot;</td><td>2010</td><td>1</td><td>&quot;SEA&quot;</td><td>&quot;AL&quot;</td><td>0</td><td>6</td><td>53</td><td>0</td><td>0</td><td>0</td><td>31</td><td>149</td><td>33</td><td>19</td><td>5</td><td>25</td><td>49</td><td>0.198</td><td>3.44</td><td>5</td><td>2</td><td>2</td><td>0</td><td>202</td><td>43</td><td>19</td><td>7</td><td>1</td><td>5</td></tr><tr><td>&quot;aardsda01&quot;</td><td>2012</td><td>1</td><td>&quot;NYA&quot;</td><td>&quot;AL&quot;</td><td>0</td><td>0</td><td>1</td><td>0</td><td>0</td><td>0</td><td>0</td><td>3</td><td>1</td><td>1</td><td>1</td><td>1</td><td>1</td><td>0.25</td><td>9.0</td><td>0</td><td>0</td><td>0</td><td>0</td><td>5</td><td>1</td><td>1</td><td>0</td><td>0</td><td>0</td></tr><tr><td>&quot;aardsda01&quot;</td><td>2013</td><td>1</td><td>&quot;NYN&quot;</td><td>&quot;NL&quot;</td><td>2</td><td>2</td><td>43</td><td>0</td><td>0</td><td>0</td><td>0</td><td>119</td><td>39</td><td>19</td><td>7</td><td>19</td><td>36</td><td>0.257</td><td>4.31</td><td>6</td><td>1</td><td>4</td><td>1</td><td>178</td><td>7</td><td>20</td><td>2</td><td>1</td><td>2</td></tr><tr><td>&quot;aardsda01&quot;</td><td>2015</td><td>1</td><td>&quot;ATL&quot;</td><td>&quot;NL&quot;</td><td>1</td><td>1</td><td>33</td><td>0</td><td>0</td><td>0</td><td>0</td><td>92</td><td>25</td><td>16</td><td>6</td><td>14</td><td>35</td><td>0.223</td><td>4.7</td><td>3</td><td>1</td><td>1</td><td>0</td><td>129</td><td>9</td><td>17</td><td>0</td><td>1</td><td>4</td></tr><tr><td>&quot;aasedo01&quot;</td><td>1977</td><td>1</td><td>&quot;BOS&quot;</td><td>&quot;AL&quot;</td><td>6</td><td>2</td><td>13</td><td>13</td><td>4</td><td>2</td><td>0</td><td>277</td><td>85</td><td>32</td><td>6</td><td>19</td><td>49</td><td>0.244</td><td>3.12</td><td>1</td><td>0</td><td>1</td><td>0</td><td>373</td><td>0</td><td>36</td><td>2</td><td>3</td><td>7</td></tr></tbody></table></div>"
      ],
      "text/plain": [
       "shape: (10, 30)\n",
       "┌───────────┬────────┬───────┬────────┬───┬─────┬─────┬─────┬──────┐\n",
       "│ playerID  ┆ yearID ┆ stint ┆ teamID ┆ … ┆ R   ┆ SH  ┆ SF  ┆ GIDP │\n",
       "│ ---       ┆ ---    ┆ ---   ┆ ---    ┆   ┆ --- ┆ --- ┆ --- ┆ ---  │\n",
       "│ str       ┆ i64    ┆ i64   ┆ str    ┆   ┆ i64 ┆ i64 ┆ i64 ┆ i64  │\n",
       "╞═══════════╪════════╪═══════╪════════╪═══╪═════╪═════╪═════╪══════╡\n",
       "│ aardsda01 ┆ 2004   ┆ 1     ┆ SFN    ┆ … ┆ 8   ┆ 0   ┆ 1   ┆ 1    │\n",
       "│ aardsda01 ┆ 2006   ┆ 1     ┆ CHN    ┆ … ┆ 25  ┆ 1   ┆ 3   ┆ 2    │\n",
       "│ aardsda01 ┆ 2007   ┆ 1     ┆ CHA    ┆ … ┆ 24  ┆ 2   ┆ 1   ┆ 1    │\n",
       "│ aardsda01 ┆ 2008   ┆ 1     ┆ BOS    ┆ … ┆ 32  ┆ 3   ┆ 2   ┆ 4    │\n",
       "│ aardsda01 ┆ 2009   ┆ 1     ┆ SEA    ┆ … ┆ 23  ┆ 2   ┆ 1   ┆ 2    │\n",
       "│ aardsda01 ┆ 2010   ┆ 1     ┆ SEA    ┆ … ┆ 19  ┆ 7   ┆ 1   ┆ 5    │\n",
       "│ aardsda01 ┆ 2012   ┆ 1     ┆ NYA    ┆ … ┆ 1   ┆ 0   ┆ 0   ┆ 0    │\n",
       "│ aardsda01 ┆ 2013   ┆ 1     ┆ NYN    ┆ … ┆ 20  ┆ 2   ┆ 1   ┆ 2    │\n",
       "│ aardsda01 ┆ 2015   ┆ 1     ┆ ATL    ┆ … ┆ 17  ┆ 0   ┆ 1   ┆ 4    │\n",
       "│ aasedo01  ┆ 1977   ┆ 1     ┆ BOS    ┆ … ┆ 36  ┆ 2   ┆ 3   ┆ 7    │\n",
       "└───────────┴────────┴───────┴────────┴───┴─────┴─────┴─────┴──────┘"
      ]
     },
     "execution_count": 231,
     "metadata": {},
     "output_type": "execute_result"
    }
   ],
   "source": [
    "pitching = (pl.read_csv('./data/Pitching.csv'))\n",
    "batting = (pl.read_csv('./data/Batting.csv'))\n",
    "pitching.head(10)"
   ]
  },
  {
   "cell_type": "code",
   "execution_count": 210,
   "id": "27b0249a",
   "metadata": {},
   "outputs": [
    {
     "name": "stdout",
     "output_type": "stream",
     "text": [
      "shape: (10, 30)\n",
      "┌───────────┬────────┬───────┬────────┬───┬─────┬─────┬─────┬──────┐\n",
      "│ playerID  ┆ yearID ┆ stint ┆ teamID ┆ … ┆ R   ┆ SH  ┆ SF  ┆ GIDP │\n",
      "│ ---       ┆ ---    ┆ ---   ┆ ---    ┆   ┆ --- ┆ --- ┆ --- ┆ ---  │\n",
      "│ str       ┆ i64    ┆ i64   ┆ str    ┆   ┆ i64 ┆ i64 ┆ i64 ┆ i64  │\n",
      "╞═══════════╪════════╪═══════╪════════╪═══╪═════╪═════╪═════╪══════╡\n",
      "│ aardsda01 ┆ 2004   ┆ 1     ┆ SFN    ┆ … ┆ 8   ┆ 0   ┆ 1   ┆ 1    │\n",
      "│ aardsda01 ┆ 2006   ┆ 1     ┆ CHN    ┆ … ┆ 25  ┆ 1   ┆ 3   ┆ 2    │\n",
      "│ aardsda01 ┆ 2007   ┆ 1     ┆ CHA    ┆ … ┆ 24  ┆ 2   ┆ 1   ┆ 1    │\n",
      "│ aardsda01 ┆ 2008   ┆ 1     ┆ BOS    ┆ … ┆ 32  ┆ 3   ┆ 2   ┆ 4    │\n",
      "│ aardsda01 ┆ 2009   ┆ 1     ┆ SEA    ┆ … ┆ 23  ┆ 2   ┆ 1   ┆ 2    │\n",
      "│ aardsda01 ┆ 2010   ┆ 1     ┆ SEA    ┆ … ┆ 19  ┆ 7   ┆ 1   ┆ 5    │\n",
      "│ aardsda01 ┆ 2012   ┆ 1     ┆ NYA    ┆ … ┆ 1   ┆ 0   ┆ 0   ┆ 0    │\n",
      "│ aardsda01 ┆ 2013   ┆ 1     ┆ NYN    ┆ … ┆ 20  ┆ 2   ┆ 1   ┆ 2    │\n",
      "│ aardsda01 ┆ 2015   ┆ 1     ┆ ATL    ┆ … ┆ 17  ┆ 0   ┆ 1   ┆ 4    │\n",
      "│ aasedo01  ┆ 1977   ┆ 1     ┆ BOS    ┆ … ┆ 36  ┆ 2   ┆ 3   ┆ 7    │\n",
      "└───────────┴────────┴───────┴────────┴───┴─────┴─────┴─────┴──────┘\n"
     ]
    }
   ],
   "source": [
    "print(pitching.head(50))\n"
   ]
  },
  {
   "cell_type": "code",
   "execution_count": 222,
   "id": "a7f516cf-4137-4a94-8062-005b3fd9bf6c",
   "metadata": {},
   "outputs": [
    {
     "data": {
      "text/plain": [
       "(158, 5)"
      ]
     },
     "execution_count": 222,
     "metadata": {},
     "output_type": "execute_result"
    }
   ],
   "source": [
    "league_era = (\n",
    "    pitching\n",
    "    .filter(pl.col(\"yearID\") >= 1946)\n",
    "    .select(['yearID', 'lgID', 'IPouts', 'R'])\n",
    "    .group_by([\"yearID\", \"lgID\"])\n",
    "    .agg([\n",
    "        pl.col('R').sum().alias('total_runs_allowed'),\n",
    "        pl.col('IPouts').sum().alias('total_outs'),\n",
    "        #pl.col('yearID').min().alias('minyear')\n",
    "    ])\n",
    "    .with_columns( era = pl.col(\"total_runs_allowed\") / pl.col('total_outs') *27,\n",
    "                 )\n",
    "    .sort( pl.col(\"yearID\"))\n",
    "\n",
    ")\n",
    "league_era.shape"
   ]
  },
  {
   "cell_type": "code",
   "execution_count": 232,
   "id": "9dcd0b50",
   "metadata": {},
   "outputs": [
    {
     "data": {
      "text/html": [
       "<div><style>\n",
       ".dataframe > thead > tr,\n",
       ".dataframe > tbody > tr {\n",
       "  text-align: right;\n",
       "  white-space: pre-wrap;\n",
       "}\n",
       "</style>\n",
       "<small>shape: (10, 24)</small><table border=\"1\" class=\"dataframe\"><thead><tr><th>playerID</th><th>yearID</th><th>stint</th><th>teamID</th><th>lgID</th><th>G</th><th>G_batting</th><th>AB</th><th>R</th><th>H</th><th>2B</th><th>3B</th><th>HR</th><th>RBI</th><th>SB</th><th>CS</th><th>BB</th><th>SO</th><th>IBB</th><th>HBP</th><th>SH</th><th>SF</th><th>GIDP</th><th>G_old</th></tr><tr><td>str</td><td>i64</td><td>i64</td><td>str</td><td>str</td><td>i64</td><td>i64</td><td>i64</td><td>i64</td><td>i64</td><td>i64</td><td>i64</td><td>i64</td><td>i64</td><td>i64</td><td>i64</td><td>i64</td><td>i64</td><td>i64</td><td>i64</td><td>i64</td><td>i64</td><td>i64</td><td>i64</td></tr></thead><tbody><tr><td>&quot;aardsda01&quot;</td><td>2004</td><td>1</td><td>&quot;SFN&quot;</td><td>&quot;NL&quot;</td><td>11</td><td>null</td><td>0</td><td>0</td><td>0</td><td>0</td><td>0</td><td>0</td><td>0</td><td>0</td><td>0</td><td>0</td><td>0</td><td>0</td><td>0</td><td>0</td><td>0</td><td>0</td><td>null</td></tr><tr><td>&quot;aardsda01&quot;</td><td>2006</td><td>1</td><td>&quot;CHN&quot;</td><td>&quot;NL&quot;</td><td>45</td><td>null</td><td>2</td><td>0</td><td>0</td><td>0</td><td>0</td><td>0</td><td>0</td><td>0</td><td>0</td><td>0</td><td>0</td><td>0</td><td>0</td><td>1</td><td>0</td><td>0</td><td>null</td></tr><tr><td>&quot;aardsda01&quot;</td><td>2007</td><td>1</td><td>&quot;CHA&quot;</td><td>&quot;AL&quot;</td><td>25</td><td>null</td><td>0</td><td>0</td><td>0</td><td>0</td><td>0</td><td>0</td><td>0</td><td>0</td><td>0</td><td>0</td><td>0</td><td>0</td><td>0</td><td>0</td><td>0</td><td>0</td><td>null</td></tr><tr><td>&quot;aardsda01&quot;</td><td>2008</td><td>1</td><td>&quot;BOS&quot;</td><td>&quot;AL&quot;</td><td>47</td><td>null</td><td>1</td><td>0</td><td>0</td><td>0</td><td>0</td><td>0</td><td>0</td><td>0</td><td>0</td><td>0</td><td>1</td><td>0</td><td>0</td><td>0</td><td>0</td><td>0</td><td>null</td></tr><tr><td>&quot;aardsda01&quot;</td><td>2009</td><td>1</td><td>&quot;SEA&quot;</td><td>&quot;AL&quot;</td><td>73</td><td>null</td><td>0</td><td>0</td><td>0</td><td>0</td><td>0</td><td>0</td><td>0</td><td>0</td><td>0</td><td>0</td><td>0</td><td>0</td><td>0</td><td>0</td><td>0</td><td>0</td><td>null</td></tr><tr><td>&quot;aardsda01&quot;</td><td>2010</td><td>1</td><td>&quot;SEA&quot;</td><td>&quot;AL&quot;</td><td>53</td><td>null</td><td>0</td><td>0</td><td>0</td><td>0</td><td>0</td><td>0</td><td>0</td><td>0</td><td>0</td><td>0</td><td>0</td><td>0</td><td>0</td><td>0</td><td>0</td><td>0</td><td>null</td></tr><tr><td>&quot;aardsda01&quot;</td><td>2012</td><td>1</td><td>&quot;NYA&quot;</td><td>&quot;AL&quot;</td><td>1</td><td>null</td><td>0</td><td>0</td><td>0</td><td>0</td><td>0</td><td>0</td><td>0</td><td>0</td><td>0</td><td>0</td><td>0</td><td>0</td><td>0</td><td>0</td><td>0</td><td>0</td><td>null</td></tr><tr><td>&quot;aardsda01&quot;</td><td>2013</td><td>1</td><td>&quot;NYN&quot;</td><td>&quot;NL&quot;</td><td>43</td><td>null</td><td>0</td><td>0</td><td>0</td><td>0</td><td>0</td><td>0</td><td>0</td><td>0</td><td>0</td><td>0</td><td>0</td><td>0</td><td>0</td><td>0</td><td>0</td><td>0</td><td>null</td></tr><tr><td>&quot;aardsda01&quot;</td><td>2015</td><td>1</td><td>&quot;ATL&quot;</td><td>&quot;NL&quot;</td><td>33</td><td>null</td><td>1</td><td>0</td><td>0</td><td>0</td><td>0</td><td>0</td><td>0</td><td>0</td><td>0</td><td>0</td><td>1</td><td>0</td><td>0</td><td>0</td><td>0</td><td>0</td><td>null</td></tr><tr><td>&quot;aaronha01&quot;</td><td>1954</td><td>1</td><td>&quot;ML1&quot;</td><td>&quot;NL&quot;</td><td>122</td><td>null</td><td>468</td><td>58</td><td>131</td><td>27</td><td>6</td><td>13</td><td>69</td><td>2</td><td>2</td><td>28</td><td>39</td><td>null</td><td>3</td><td>6</td><td>4</td><td>13</td><td>null</td></tr></tbody></table></div>"
      ],
      "text/plain": [
       "shape: (10, 24)\n",
       "┌───────────┬────────┬───────┬────────┬───┬─────┬─────┬──────┬───────┐\n",
       "│ playerID  ┆ yearID ┆ stint ┆ teamID ┆ … ┆ SH  ┆ SF  ┆ GIDP ┆ G_old │\n",
       "│ ---       ┆ ---    ┆ ---   ┆ ---    ┆   ┆ --- ┆ --- ┆ ---  ┆ ---   │\n",
       "│ str       ┆ i64    ┆ i64   ┆ str    ┆   ┆ i64 ┆ i64 ┆ i64  ┆ i64   │\n",
       "╞═══════════╪════════╪═══════╪════════╪═══╪═════╪═════╪══════╪═══════╡\n",
       "│ aardsda01 ┆ 2004   ┆ 1     ┆ SFN    ┆ … ┆ 0   ┆ 0   ┆ 0    ┆ null  │\n",
       "│ aardsda01 ┆ 2006   ┆ 1     ┆ CHN    ┆ … ┆ 1   ┆ 0   ┆ 0    ┆ null  │\n",
       "│ aardsda01 ┆ 2007   ┆ 1     ┆ CHA    ┆ … ┆ 0   ┆ 0   ┆ 0    ┆ null  │\n",
       "│ aardsda01 ┆ 2008   ┆ 1     ┆ BOS    ┆ … ┆ 0   ┆ 0   ┆ 0    ┆ null  │\n",
       "│ aardsda01 ┆ 2009   ┆ 1     ┆ SEA    ┆ … ┆ 0   ┆ 0   ┆ 0    ┆ null  │\n",
       "│ aardsda01 ┆ 2010   ┆ 1     ┆ SEA    ┆ … ┆ 0   ┆ 0   ┆ 0    ┆ null  │\n",
       "│ aardsda01 ┆ 2012   ┆ 1     ┆ NYA    ┆ … ┆ 0   ┆ 0   ┆ 0    ┆ null  │\n",
       "│ aardsda01 ┆ 2013   ┆ 1     ┆ NYN    ┆ … ┆ 0   ┆ 0   ┆ 0    ┆ null  │\n",
       "│ aardsda01 ┆ 2015   ┆ 1     ┆ ATL    ┆ … ┆ 0   ┆ 0   ┆ 0    ┆ null  │\n",
       "│ aaronha01 ┆ 1954   ┆ 1     ┆ ML1    ┆ … ┆ 6   ┆ 4   ┆ 13   ┆ null  │\n",
       "└───────────┴────────┴───────┴────────┴───┴─────┴─────┴──────┴───────┘"
      ]
     },
     "execution_count": 232,
     "metadata": {},
     "output_type": "execute_result"
    }
   ],
   "source": [
    "batting.head(10)\n"
   ]
  },
  {
   "cell_type": "code",
   "execution_count": 239,
   "id": "50bfa78d-ce28-4f07-962e-5346d336d879",
   "metadata": {},
   "outputs": [
    {
     "data": {
      "text/html": [
       "<div><style>\n",
       ".dataframe > thead > tr,\n",
       ".dataframe > tbody > tr {\n",
       "  text-align: right;\n",
       "  white-space: pre-wrap;\n",
       "}\n",
       "</style>\n",
       "<small>shape: (10, 9)</small><table border=\"1\" class=\"dataframe\"><thead><tr><th>yearID</th><th>lgID</th><th>hits</th><th>atbat</th><th>doubles</th><th>triples</th><th>homeruns</th><th>singles</th><th>slug_perc</th></tr><tr><td>i64</td><td>str</td><td>i64</td><td>i64</td><td>i64</td><td>i64</td><td>i64</td><td>i64</td><td>f64</td></tr></thead><tbody><tr><td>1983</td><td>&quot;AL&quot;</td><td>20662</td><td>77821</td><td>3710</td><td>549</td><td>1903</td><td>14500</td><td>0.40065</td></tr><tr><td>1994</td><td>&quot;AL&quot;</td><td>15048</td><td>55198</td><td>2939</td><td>325</td><td>1774</td><td>10010</td><td>0.434056</td></tr><tr><td>1953</td><td>&quot;NL&quot;</td><td>11342</td><td>42639</td><td>1777</td><td>414</td><td>1197</td><td>7954</td><td>0.411314</td></tr><tr><td>1993</td><td>&quot;AL&quot;</td><td>20661</td><td>77506</td><td>3861</td><td>427</td><td>2074</td><td>14299</td><td>0.407685</td></tr><tr><td>1982</td><td>&quot;AL&quot;</td><td>20566</td><td>77886</td><td>3493</td><td>519</td><td>2080</td><td>14474</td><td>0.402344</td></tr><tr><td>2006</td><td>&quot;AL&quot;</td><td>21572</td><td>78497</td><td>4301</td><td>391</td><td>2546</td><td>14334</td><td>0.43687</td></tr><tr><td>1975</td><td>&quot;AL&quot;</td><td>16861</td><td>65371</td><td>2662</td><td>429</td><td>1465</td><td>12305</td><td>0.379006</td></tr><tr><td>1988</td><td>&quot;NL&quot;</td><td>16277</td><td>65563</td><td>2828</td><td>415</td><td>1279</td><td>11755</td><td>0.362583</td></tr><tr><td>1978</td><td>&quot;NL&quot;</td><td>16556</td><td>65156</td><td>2861</td><td>482</td><td>1276</td><td>11937</td><td>0.371554</td></tr><tr><td>1957</td><td>&quot;AL&quot;</td><td>10703</td><td>41987</td><td>1663</td><td>307</td><td>1024</td><td>7709</td><td>0.382309</td></tr></tbody></table></div>"
      ],
      "text/plain": [
       "shape: (10, 9)\n",
       "┌────────┬──────┬───────┬───────┬───┬─────────┬──────────┬─────────┬───────────┐\n",
       "│ yearID ┆ lgID ┆ hits  ┆ atbat ┆ … ┆ triples ┆ homeruns ┆ singles ┆ slug_perc │\n",
       "│ ---    ┆ ---  ┆ ---   ┆ ---   ┆   ┆ ---     ┆ ---      ┆ ---     ┆ ---       │\n",
       "│ i64    ┆ str  ┆ i64   ┆ i64   ┆   ┆ i64     ┆ i64      ┆ i64     ┆ f64       │\n",
       "╞════════╪══════╪═══════╪═══════╪═══╪═════════╪══════════╪═════════╪═══════════╡\n",
       "│ 1983   ┆ AL   ┆ 20662 ┆ 77821 ┆ … ┆ 549     ┆ 1903     ┆ 14500   ┆ 0.40065   │\n",
       "│ 1994   ┆ AL   ┆ 15048 ┆ 55198 ┆ … ┆ 325     ┆ 1774     ┆ 10010   ┆ 0.434056  │\n",
       "│ 1953   ┆ NL   ┆ 11342 ┆ 42639 ┆ … ┆ 414     ┆ 1197     ┆ 7954    ┆ 0.411314  │\n",
       "│ 1993   ┆ AL   ┆ 20661 ┆ 77506 ┆ … ┆ 427     ┆ 2074     ┆ 14299   ┆ 0.407685  │\n",
       "│ 1982   ┆ AL   ┆ 20566 ┆ 77886 ┆ … ┆ 519     ┆ 2080     ┆ 14474   ┆ 0.402344  │\n",
       "│ 2006   ┆ AL   ┆ 21572 ┆ 78497 ┆ … ┆ 391     ┆ 2546     ┆ 14334   ┆ 0.43687   │\n",
       "│ 1975   ┆ AL   ┆ 16861 ┆ 65371 ┆ … ┆ 429     ┆ 1465     ┆ 12305   ┆ 0.379006  │\n",
       "│ 1988   ┆ NL   ┆ 16277 ┆ 65563 ┆ … ┆ 415     ┆ 1279     ┆ 11755   ┆ 0.362583  │\n",
       "│ 1978   ┆ NL   ┆ 16556 ┆ 65156 ┆ … ┆ 482     ┆ 1276     ┆ 11937   ┆ 0.371554  │\n",
       "│ 1957   ┆ AL   ┆ 10703 ┆ 41987 ┆ … ┆ 307     ┆ 1024     ┆ 7709    ┆ 0.382309  │\n",
       "└────────┴──────┴───────┴───────┴───┴─────────┴──────────┴─────────┴───────────┘"
      ]
     },
     "execution_count": 239,
     "metadata": {},
     "output_type": "execute_result"
    }
   ],
   "source": [
    "agger = (batting\n",
    "    .filter(pl.col('yearID') >= 1946)\n",
    "    .select(['yearID', 'lgID', 'H','HR', 'AB','2B', '3B'])\n",
    "    .group_by(['yearID','lgID'])\n",
    "    .agg(\n",
    "        pl.col('H').sum().alias('hits'),\n",
    "        pl.col('AB').sum().alias('atbat'),\n",
    "        pl.col('2B').sum().alias('doubles'),\n",
    "        pl.col('3B').sum().alias('triples'),\n",
    "        pl.col('HR').sum().alias('homeruns')\n",
    "    )  \n",
    "    .with_columns(singles = \n",
    "        pl.col('hits')-pl.col('homeruns')-pl.col('triples') -pl.col('doubles')\n",
    "                 )\n",
    "    .with_columns(slug_perc = \n",
    "                  (\n",
    "                      pl.col('singles')*1\n",
    "                      + pl.col('doubles')*2\n",
    "                      + pl.col('triples')*3\n",
    "                      + pl.col('homeruns')*4\n",
    "                  )\n",
    "                  / pl.col('atbat')\n",
    "\n",
    ")\n",
    ")\n",
    "agger.head(10)  "
   ]
  },
  {
   "cell_type": "code",
   "execution_count": 241,
   "id": "44b3cca5-383e-4279-b0d2-78ee6ea125d8",
   "metadata": {},
   "outputs": [],
   "source": [
    "agger.write_csv('./data/BATTING_FINISHED_RESULTS_READ_ME_IYENGAR.csv')\n",
    "league_era.write_csv('./data/PITCHING_FINISHED_RESULTS_READ_ME_IYENGAR.csv')                \n",
    "\n",
    "        "
   ]
  }
 ],
 "metadata": {
  "kernelspec": {
   "display_name": "Python 3 (ipykernel)",
   "language": "python",
   "name": "python3"
  },
  "language_info": {
   "codemirror_mode": {
    "name": "ipython",
    "version": 3
   },
   "file_extension": ".py",
   "mimetype": "text/x-python",
   "name": "python",
   "nbconvert_exporter": "python",
   "pygments_lexer": "ipython3",
   "version": "3.12.2"
  }
 },
 "nbformat": 4,
 "nbformat_minor": 5
}

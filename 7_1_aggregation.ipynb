{
 "cells": [
  {
   "cell_type": "markdown",
   "id": "2d129329",
   "metadata": {
    "slideshow": {
     "slide_type": "slide"
    }
   },
   "source": [
    "## Colab Prep\n",
    "\n",
    "Execute the following code cells to whenever you open/restart the notebook in Google Colab."
   ]
  },
  {
   "cell_type": "code",
   "execution_count": 1,
   "id": "7b375479",
   "metadata": {
    "slideshow": {
     "slide_type": "fragment"
    }
   },
   "outputs": [
    {
     "name": "stdout",
     "output_type": "stream",
     "text": [
      "Requirement already satisfied: polars[all] in /home/tmichel3796/anaconda3/lib/python3.12/site-packages (1.32.3)\n",
      "Requirement already satisfied: numpy>=1.16.0 in /home/tmichel3796/anaconda3/lib/python3.12/site-packages (from polars[all]) (1.26.4)\n",
      "Requirement already satisfied: pandas in /home/tmichel3796/anaconda3/lib/python3.12/site-packages (from polars[all]) (2.2.2)\n",
      "Requirement already satisfied: pyarrow>=7.0.0 in /home/tmichel3796/anaconda3/lib/python3.12/site-packages (from polars[all]) (14.0.2)\n",
      "Requirement already satisfied: pydantic in /home/tmichel3796/anaconda3/lib/python3.12/site-packages (from polars[all]) (2.5.3)\n",
      "Requirement already satisfied: fsspec in /home/tmichel3796/anaconda3/lib/python3.12/site-packages (from polars[all]) (2024.3.1)\n",
      "Collecting deltalake>=1.0.0 (from polars[all])\n",
      "  Downloading deltalake-1.1.4-cp39-abi3-manylinux_2_17_x86_64.manylinux2014_x86_64.whl.metadata (4.6 kB)\n",
      "Collecting pyiceberg>=0.7.1 (from polars[all])\n",
      "  Downloading pyiceberg-0.9.1-cp312-cp312-manylinux_2_17_x86_64.manylinux2014_x86_64.whl.metadata (4.5 kB)\n",
      "Collecting gevent (from polars[all])\n",
      "  Downloading gevent-25.8.2-cp312-cp312-manylinux2014_x86_64.manylinux_2_17_x86_64.whl.metadata (14 kB)\n",
      "Requirement already satisfied: cloudpickle in /home/tmichel3796/anaconda3/lib/python3.12/site-packages (from polars[all]) (2.2.1)\n",
      "Requirement already satisfied: matplotlib in /home/tmichel3796/anaconda3/lib/python3.12/site-packages (from polars[all]) (3.8.4)\n",
      "Requirement already satisfied: altair>=5.4.0 in /home/tmichel3796/anaconda3/lib/python3.12/site-packages (from polars[all]) (5.5.0)\n",
      "Collecting great-tables>=0.8.0 (from polars[all])\n",
      "  Downloading great_tables-0.18.0-py3-none-any.whl.metadata (12 kB)\n",
      "Requirement already satisfied: jinja2 in /home/tmichel3796/anaconda3/lib/python3.12/site-packages (from altair>=5.4.0->polars[all]) (3.1.4)\n",
      "Requirement already satisfied: jsonschema>=3.0 in /home/tmichel3796/anaconda3/lib/python3.12/site-packages (from altair>=5.4.0->polars[all]) (4.19.2)\n",
      "Requirement already satisfied: narwhals>=1.14.2 in /home/tmichel3796/anaconda3/lib/python3.12/site-packages (from altair>=5.4.0->polars[all]) (2.1.2)\n",
      "Requirement already satisfied: packaging in /home/tmichel3796/anaconda3/lib/python3.12/site-packages (from altair>=5.4.0->polars[all]) (23.2)\n",
      "Requirement already satisfied: typing-extensions>=4.10.0 in /home/tmichel3796/anaconda3/lib/python3.12/site-packages (from altair>=5.4.0->polars[all]) (4.11.0)\n",
      "Collecting arro3-core>=0.5.0 (from deltalake>=1.0.0->polars[all])\n",
      "  Downloading arro3_core-0.6.1-cp312-cp312-manylinux_2_17_x86_64.manylinux2014_x86_64.whl.metadata (363 bytes)\n",
      "Collecting deprecated>=1.2.18 (from deltalake>=1.0.0->polars[all])\n",
      "  Downloading Deprecated-1.2.18-py2.py3-none-any.whl.metadata (5.7 kB)\n",
      "Collecting commonmark>=0.9.1 (from great-tables>=0.8.0->polars[all])\n",
      "  Downloading commonmark-0.9.1-py2.py3-none-any.whl.metadata (5.7 kB)\n",
      "Collecting faicons>=0.2.2 (from great-tables>=0.8.0->polars[all])\n",
      "  Downloading faicons-0.2.2-py3-none-any.whl.metadata (1.8 kB)\n",
      "Collecting htmltools>=0.4.1 (from great-tables>=0.8.0->polars[all])\n",
      "  Downloading htmltools-0.6.0-py3-none-any.whl.metadata (3.3 kB)\n",
      "Requirement already satisfied: importlib-metadata in /home/tmichel3796/anaconda3/lib/python3.12/site-packages (from great-tables>=0.8.0->polars[all]) (7.0.1)\n",
      "Collecting Babel>=2.13.1 (from great-tables>=0.8.0->polars[all])\n",
      "  Downloading babel-2.17.0-py3-none-any.whl.metadata (2.0 kB)\n",
      "Collecting importlib-resources (from great-tables>=0.8.0->polars[all])\n",
      "  Downloading importlib_resources-6.5.2-py3-none-any.whl.metadata (3.9 kB)\n",
      "Collecting cachetools<6.0.0,>=5.5.0 (from pyiceberg>=0.7.1->polars[all])\n",
      "  Downloading cachetools-5.5.2-py3-none-any.whl.metadata (5.4 kB)\n",
      "Requirement already satisfied: click<9.0.0,>=7.1.1 in /home/tmichel3796/anaconda3/lib/python3.12/site-packages (from pyiceberg>=0.7.1->polars[all]) (8.1.7)\n",
      "Collecting mmh3<6.0.0,>=4.0.0 (from pyiceberg>=0.7.1->polars[all])\n",
      "  Downloading mmh3-5.2.0-cp312-cp312-manylinux1_x86_64.manylinux_2_28_x86_64.manylinux_2_5_x86_64.whl.metadata (14 kB)\n",
      "Collecting pyparsing<4.0.0,>=3.1.0 (from pyiceberg>=0.7.1->polars[all])\n",
      "  Downloading pyparsing-3.2.3-py3-none-any.whl.metadata (5.0 kB)\n",
      "Requirement already satisfied: requests<3.0.0,>=2.20.0 in /home/tmichel3796/anaconda3/lib/python3.12/site-packages (from pyiceberg>=0.7.1->polars[all]) (2.32.2)\n",
      "Requirement already satisfied: rich<14.0.0,>=10.11.0 in /home/tmichel3796/anaconda3/lib/python3.12/site-packages (from pyiceberg>=0.7.1->polars[all]) (13.3.5)\n",
      "Requirement already satisfied: sortedcontainers==2.4.0 in /home/tmichel3796/anaconda3/lib/python3.12/site-packages (from pyiceberg>=0.7.1->polars[all]) (2.4.0)\n",
      "Collecting strictyaml<2.0.0,>=1.7.0 (from pyiceberg>=0.7.1->polars[all])\n",
      "  Downloading strictyaml-1.7.3-py3-none-any.whl.metadata (11 kB)\n",
      "Collecting tenacity<10.0.0,>=8.2.3 (from pyiceberg>=0.7.1->polars[all])\n",
      "  Downloading tenacity-9.1.2-py3-none-any.whl.metadata (1.2 kB)\n",
      "Requirement already satisfied: annotated-types>=0.4.0 in /home/tmichel3796/anaconda3/lib/python3.12/site-packages (from pydantic->polars[all]) (0.6.0)\n",
      "Requirement already satisfied: pydantic-core==2.14.6 in /home/tmichel3796/anaconda3/lib/python3.12/site-packages (from pydantic->polars[all]) (2.14.6)\n",
      "Collecting greenlet>=3.2.2 (from gevent->polars[all])\n",
      "  Downloading greenlet-3.2.4-cp312-cp312-manylinux_2_24_x86_64.manylinux_2_28_x86_64.whl.metadata (4.1 kB)\n",
      "Collecting zope.event (from gevent->polars[all])\n",
      "  Downloading zope_event-5.1.1-py3-none-any.whl.metadata (5.0 kB)\n",
      "Requirement already satisfied: zope.interface in /home/tmichel3796/anaconda3/lib/python3.12/site-packages (from gevent->polars[all]) (5.4.0)\n",
      "Requirement already satisfied: contourpy>=1.0.1 in /home/tmichel3796/anaconda3/lib/python3.12/site-packages (from matplotlib->polars[all]) (1.2.0)\n",
      "Requirement already satisfied: cycler>=0.10 in /home/tmichel3796/anaconda3/lib/python3.12/site-packages (from matplotlib->polars[all]) (0.11.0)\n",
      "Requirement already satisfied: fonttools>=4.22.0 in /home/tmichel3796/anaconda3/lib/python3.12/site-packages (from matplotlib->polars[all]) (4.51.0)\n",
      "Requirement already satisfied: kiwisolver>=1.3.1 in /home/tmichel3796/anaconda3/lib/python3.12/site-packages (from matplotlib->polars[all]) (1.4.4)\n",
      "Requirement already satisfied: pillow>=8 in /home/tmichel3796/anaconda3/lib/python3.12/site-packages (from matplotlib->polars[all]) (10.3.0)\n",
      "Requirement already satisfied: python-dateutil>=2.7 in /home/tmichel3796/anaconda3/lib/python3.12/site-packages (from matplotlib->polars[all]) (2.9.0.post0)\n",
      "Requirement already satisfied: pytz>=2020.1 in /home/tmichel3796/anaconda3/lib/python3.12/site-packages (from pandas->polars[all]) (2024.1)\n",
      "Requirement already satisfied: tzdata>=2022.7 in /home/tmichel3796/anaconda3/lib/python3.12/site-packages (from pandas->polars[all]) (2023.3)\n",
      "Collecting adbc-driver-manager[dbapi] (from polars[all])\n",
      "  Downloading adbc_driver_manager-1.7.0-cp312-cp312-manylinux2014_x86_64.manylinux_2_17_x86_64.whl.metadata (3.3 kB)\n",
      "Collecting adbc-driver-sqlite[dbapi] (from polars[all])\n",
      "  Downloading adbc_driver_sqlite-1.7.0-py3-none-manylinux2014_x86_64.manylinux_2_17_x86_64.whl.metadata (3.5 kB)\n",
      "Collecting connectorx>=0.3.2 (from polars[all])\n",
      "  Downloading connectorx-0.4.4-cp312-cp312-manylinux_2_28_x86_64.whl.metadata (27 kB)\n",
      "Requirement already satisfied: sqlalchemy in /home/tmichel3796/anaconda3/lib/python3.12/site-packages (from polars[all]) (2.0.30)\n",
      "Collecting fastexcel>=0.9 (from polars[all])\n",
      "  Downloading fastexcel-0.15.1-cp39-abi3-manylinux_2_17_x86_64.manylinux2014_x86_64.whl.metadata (7.0 kB)\n",
      "Requirement already satisfied: openpyxl>=3.0.0 in /home/tmichel3796/anaconda3/lib/python3.12/site-packages (from polars[all]) (3.1.2)\n",
      "Collecting xlsx2csv>=0.8.0 (from polars[all])\n",
      "  Downloading xlsx2csv-0.8.4-py3-none-any.whl.metadata (5.7 kB)\n",
      "Collecting xlsxwriter (from polars[all])\n",
      "  Downloading xlsxwriter-3.2.5-py3-none-any.whl.metadata (2.7 kB)\n",
      "Requirement already satisfied: wrapt<2,>=1.10 in /home/tmichel3796/anaconda3/lib/python3.12/site-packages (from deprecated>=1.2.18->deltalake>=1.0.0->polars[all]) (1.14.1)\n",
      "Requirement already satisfied: attrs>=22.2.0 in /home/tmichel3796/anaconda3/lib/python3.12/site-packages (from jsonschema>=3.0->altair>=5.4.0->polars[all]) (23.1.0)\n",
      "Requirement already satisfied: jsonschema-specifications>=2023.03.6 in /home/tmichel3796/anaconda3/lib/python3.12/site-packages (from jsonschema>=3.0->altair>=5.4.0->polars[all]) (2023.7.1)\n",
      "Requirement already satisfied: referencing>=0.28.4 in /home/tmichel3796/anaconda3/lib/python3.12/site-packages (from jsonschema>=3.0->altair>=5.4.0->polars[all]) (0.30.2)\n",
      "Requirement already satisfied: rpds-py>=0.7.1 in /home/tmichel3796/anaconda3/lib/python3.12/site-packages (from jsonschema>=3.0->altair>=5.4.0->polars[all]) (0.10.6)\n",
      "Requirement already satisfied: et-xmlfile in /home/tmichel3796/anaconda3/lib/python3.12/site-packages (from openpyxl>=3.0.0->polars[all]) (1.1.0)\n",
      "Requirement already satisfied: six>=1.5 in /home/tmichel3796/anaconda3/lib/python3.12/site-packages (from python-dateutil>=2.7->matplotlib->polars[all]) (1.16.0)\n",
      "Requirement already satisfied: charset-normalizer<4,>=2 in /home/tmichel3796/anaconda3/lib/python3.12/site-packages (from requests<3.0.0,>=2.20.0->pyiceberg>=0.7.1->polars[all]) (2.0.4)\n",
      "Requirement already satisfied: idna<4,>=2.5 in /home/tmichel3796/anaconda3/lib/python3.12/site-packages (from requests<3.0.0,>=2.20.0->pyiceberg>=0.7.1->polars[all]) (3.7)\n",
      "Requirement already satisfied: urllib3<3,>=1.21.1 in /home/tmichel3796/anaconda3/lib/python3.12/site-packages (from requests<3.0.0,>=2.20.0->pyiceberg>=0.7.1->polars[all]) (2.2.2)\n",
      "Requirement already satisfied: certifi>=2017.4.17 in /home/tmichel3796/anaconda3/lib/python3.12/site-packages (from requests<3.0.0,>=2.20.0->pyiceberg>=0.7.1->polars[all]) (2025.8.3)\n",
      "Requirement already satisfied: markdown-it-py<3.0.0,>=2.2.0 in /home/tmichel3796/anaconda3/lib/python3.12/site-packages (from rich<14.0.0,>=10.11.0->pyiceberg>=0.7.1->polars[all]) (2.2.0)\n",
      "Requirement already satisfied: pygments<3.0.0,>=2.13.0 in /home/tmichel3796/anaconda3/lib/python3.12/site-packages (from rich<14.0.0,>=10.11.0->pyiceberg>=0.7.1->polars[all]) (2.15.1)\n",
      "Requirement already satisfied: zipp>=0.5 in /home/tmichel3796/anaconda3/lib/python3.12/site-packages (from importlib-metadata->great-tables>=0.8.0->polars[all]) (3.17.0)\n",
      "Requirement already satisfied: MarkupSafe>=2.0 in /home/tmichel3796/anaconda3/lib/python3.12/site-packages (from jinja2->altair>=5.4.0->polars[all]) (2.1.3)\n",
      "Collecting setuptools>=75.8.2 (from zope.event->gevent->polars[all])\n",
      "  Downloading setuptools-80.9.0-py3-none-any.whl.metadata (6.6 kB)\n",
      "Requirement already satisfied: mdurl~=0.1 in /home/tmichel3796/anaconda3/lib/python3.12/site-packages (from markdown-it-py<3.0.0,>=2.2.0->rich<14.0.0,>=10.11.0->pyiceberg>=0.7.1->polars[all]) (0.1.0)\n",
      "Downloading deltalake-1.1.4-cp39-abi3-manylinux_2_17_x86_64.manylinux2014_x86_64.whl (53.1 MB)\n",
      "\u001b[2K   \u001b[90m━━━━━━━━━━━━━━━━━━━━━━━━━━━━━━━━━━━━━━━━\u001b[0m \u001b[32m53.1/53.1 MB\u001b[0m \u001b[31m14.3 MB/s\u001b[0m eta \u001b[36m0:00:00\u001b[0m00:01\u001b[0m00:01\u001b[0m\n",
      "\u001b[?25hDownloading great_tables-0.18.0-py3-none-any.whl (1.4 MB)\n",
      "\u001b[2K   \u001b[90m━━━━━━━━━━━━━━━━━━━━━━━━━━━━━━━━━━━━━━━━\u001b[0m \u001b[32m1.4/1.4 MB\u001b[0m \u001b[31m6.1 MB/s\u001b[0m eta \u001b[36m0:00:00\u001b[0m00:01\u001b[0m00:01\u001b[0mm\n",
      "\u001b[?25hDownloading pyiceberg-0.9.1-cp312-cp312-manylinux_2_17_x86_64.manylinux2014_x86_64.whl (1.3 MB)\n",
      "\u001b[2K   \u001b[90m━━━━━━━━━━━━━━━━━━━━━━━━━━━━━━━━━━━━━━━━\u001b[0m \u001b[32m1.3/1.3 MB\u001b[0m \u001b[31m6.7 MB/s\u001b[0m eta \u001b[36m0:00:00\u001b[0m00:01\u001b[0m00:01\u001b[0m\n",
      "\u001b[?25hDownloading gevent-25.8.2-cp312-cp312-manylinux2014_x86_64.manylinux_2_17_x86_64.whl (2.1 MB)\n",
      "\u001b[2K   \u001b[90m━━━━━━━━━━━━━━━━━━━━━━━━━━━━━━━━━━━━━━━━\u001b[0m \u001b[32m2.1/2.1 MB\u001b[0m \u001b[31m8.3 MB/s\u001b[0m eta \u001b[36m0:00:00\u001b[0m00:01\u001b[0m00:01\u001b[0m\n",
      "\u001b[?25hDownloading arro3_core-0.6.1-cp312-cp312-manylinux_2_17_x86_64.manylinux2014_x86_64.whl (2.8 MB)\n",
      "\u001b[2K   \u001b[90m━━━━━━━━━━━━━━━━━━━━━━━━━━━━━━━━━━━━━━━━\u001b[0m \u001b[32m2.8/2.8 MB\u001b[0m \u001b[31m11.0 MB/s\u001b[0m eta \u001b[36m0:00:00\u001b[0m00:01\u001b[0m00:01\u001b[0m\n",
      "\u001b[?25hDownloading babel-2.17.0-py3-none-any.whl (10.2 MB)\n",
      "\u001b[2K   \u001b[90m━━━━━━━━━━━━━━━━━━━━━━━━━━━━━━━━━━━━━━━━\u001b[0m \u001b[32m10.2/10.2 MB\u001b[0m \u001b[31m13.9 MB/s\u001b[0m eta \u001b[36m0:00:00\u001b[0m00:01\u001b[0m0:01\u001b[0m\n",
      "\u001b[?25hDownloading cachetools-5.5.2-py3-none-any.whl (10 kB)\n",
      "Downloading commonmark-0.9.1-py2.py3-none-any.whl (51 kB)\n",
      "\u001b[2K   \u001b[90m━━━━━━━━━━━━━━━━━━━━━━━━━━━━━━━━━━━━━━━━\u001b[0m \u001b[32m51.1/51.1 kB\u001b[0m \u001b[31m3.5 MB/s\u001b[0m eta \u001b[36m0:00:00\u001b[0m\n",
      "\u001b[?25hDownloading connectorx-0.4.4-cp312-cp312-manylinux_2_28_x86_64.whl (43.7 MB)\n",
      "\u001b[2K   \u001b[90m━━━━━━━━━━━━━━━━━━━━━━━━━━━━━━━━━━━━━━━━\u001b[0m \u001b[32m43.7/43.7 MB\u001b[0m \u001b[31m11.5 MB/s\u001b[0m eta \u001b[36m0:00:00\u001b[0m00:01\u001b[0m00:01\u001b[0m\n",
      "\u001b[?25hDownloading Deprecated-1.2.18-py2.py3-none-any.whl (10.0 kB)\n",
      "Downloading faicons-0.2.2-py3-none-any.whl (607 kB)\n",
      "\u001b[2K   \u001b[90m━━━━━━━━━━━━━━━━━━━━━━━━━━━━━━━━━━━━━━━━\u001b[0m \u001b[32m607.2/607.2 kB\u001b[0m \u001b[31m4.8 MB/s\u001b[0m eta \u001b[36m0:00:00\u001b[0m00:01\u001b[0m00:01\u001b[0m\n",
      "\u001b[?25hDownloading fastexcel-0.15.1-cp39-abi3-manylinux_2_17_x86_64.manylinux2014_x86_64.whl (3.3 MB)\n",
      "\u001b[2K   \u001b[90m━━━━━━━━━━━━━━━━━━━━━━━━━━━━━━━━━━━━━━━━\u001b[0m \u001b[32m3.3/3.3 MB\u001b[0m \u001b[31m8.6 MB/s\u001b[0m eta \u001b[36m0:00:00\u001b[0ma \u001b[36m0:00:01\u001b[0m\n",
      "\u001b[?25hDownloading greenlet-3.2.4-cp312-cp312-manylinux_2_24_x86_64.manylinux_2_28_x86_64.whl (607 kB)\n",
      "\u001b[2K   \u001b[90m━━━━━━━━━━━━━━━━━━━━━━━━━━━━━━━━━━━━━━━━\u001b[0m \u001b[32m607.6/607.6 kB\u001b[0m \u001b[31m10.2 MB/s\u001b[0m eta \u001b[36m0:00:00\u001b[0ma \u001b[36m0:00:01\u001b[0m\n",
      "\u001b[?25hDownloading htmltools-0.6.0-py3-none-any.whl (84 kB)\n",
      "\u001b[2K   \u001b[90m━━━━━━━━━━━━━━━━━━━━━━━━━━━━━━━━━━━━━━━━\u001b[0m \u001b[32m85.0/85.0 kB\u001b[0m \u001b[31m10.1 MB/s\u001b[0m eta \u001b[36m0:00:00\u001b[0m\n",
      "\u001b[?25hDownloading mmh3-5.2.0-cp312-cp312-manylinux1_x86_64.manylinux_2_28_x86_64.manylinux_2_5_x86_64.whl (103 kB)\n",
      "\u001b[2K   \u001b[90m━━━━━━━━━━━━━━━━━━━━━━━━━━━━━━━━━━━━━━━━\u001b[0m \u001b[32m103.3/103.3 kB\u001b[0m \u001b[31m6.6 MB/s\u001b[0m eta \u001b[36m0:00:00\u001b[0m\n",
      "\u001b[?25hDownloading pyparsing-3.2.3-py3-none-any.whl (111 kB)\n",
      "\u001b[2K   \u001b[90m━━━━━━━━━━━━━━━━━━━━━━━━━━━━━━━━━━━━━━━━\u001b[0m \u001b[32m111.1/111.1 kB\u001b[0m \u001b[31m6.6 MB/s\u001b[0m eta \u001b[36m0:00:00\u001b[0m\n",
      "\u001b[?25hDownloading strictyaml-1.7.3-py3-none-any.whl (123 kB)\n",
      "\u001b[2K   \u001b[90m━━━━━━━━━━━━━━━━━━━━━━━━━━━━━━━━━━━━━━━━\u001b[0m \u001b[32m123.9/123.9 kB\u001b[0m \u001b[31m7.0 MB/s\u001b[0m eta \u001b[36m0:00:00\u001b[0m\n",
      "\u001b[?25hDownloading tenacity-9.1.2-py3-none-any.whl (28 kB)\n",
      "Downloading xlsx2csv-0.8.4-py3-none-any.whl (15 kB)\n",
      "Downloading importlib_resources-6.5.2-py3-none-any.whl (37 kB)\n",
      "Downloading xlsxwriter-3.2.5-py3-none-any.whl (172 kB)\n",
      "\u001b[2K   \u001b[90m━━━━━━━━━━━━━━━━━━━━━━━━━━━━━━━━━━━━━━━━\u001b[0m \u001b[32m172.3/172.3 kB\u001b[0m \u001b[31m6.0 MB/s\u001b[0m eta \u001b[36m0:00:00\u001b[0m\n",
      "\u001b[?25hDownloading zope_event-5.1.1-py3-none-any.whl (7.0 kB)\n",
      "Downloading setuptools-80.9.0-py3-none-any.whl (1.2 MB)\n",
      "\u001b[2K   \u001b[90m━━━━━━━━━━━━━━━━━━━━━━━━━━━━━━━━━━━━━━━━\u001b[0m \u001b[32m1.2/1.2 MB\u001b[0m \u001b[31m9.3 MB/s\u001b[0m eta \u001b[36m0:00:00\u001b[0m:00:01\u001b[0m00:01\u001b[0m\n",
      "\u001b[?25hDownloading adbc_driver_manager-1.7.0-cp312-cp312-manylinux2014_x86_64.manylinux_2_17_x86_64.whl (3.0 MB)\n",
      "\u001b[2K   \u001b[90m━━━━━━━━━━━━━━━━━━━━━━━━━━━━━━━━━━━━━━━━\u001b[0m \u001b[32m3.0/3.0 MB\u001b[0m \u001b[31m11.2 MB/s\u001b[0m eta \u001b[36m0:00:00\u001b[0m00:01\u001b[0m00:01\u001b[0m\n",
      "\u001b[?25hDownloading adbc_driver_sqlite-1.7.0-py3-none-manylinux2014_x86_64.manylinux_2_17_x86_64.whl (978 kB)\n",
      "\u001b[2K   \u001b[90m━━━━━━━━━━━━━━━━━━━━━━━━━━━━━━━━━━━━━━━━\u001b[0m \u001b[32m978.1/978.1 kB\u001b[0m \u001b[31m12.1 MB/s\u001b[0m eta \u001b[36m0:00:00\u001b[0m00:01\u001b[0m00:01\u001b[0m\n",
      "\u001b[?25hInstalling collected packages: xlsx2csv, commonmark, xlsxwriter, tenacity, setuptools, pyparsing, mmh3, importlib-resources, htmltools, greenlet, fastexcel, deprecated, connectorx, cachetools, Babel, arro3-core, adbc-driver-manager, zope.event, strictyaml, faicons, deltalake, adbc-driver-sqlite, pyiceberg, great-tables, gevent\n",
      "  Attempting uninstall: tenacity\n",
      "    Found existing installation: tenacity 8.2.2\n",
      "    Uninstalling tenacity-8.2.2:\n",
      "      Successfully uninstalled tenacity-8.2.2\n",
      "  Attempting uninstall: setuptools\n",
      "    Found existing installation: setuptools 69.5.1\n",
      "    Uninstalling setuptools-69.5.1:\n",
      "      Successfully uninstalled setuptools-69.5.1\n",
      "  Attempting uninstall: pyparsing\n",
      "    Found existing installation: pyparsing 3.0.9\n",
      "    Uninstalling pyparsing-3.0.9:\n",
      "      Successfully uninstalled pyparsing-3.0.9\n",
      "  Attempting uninstall: greenlet\n",
      "    Found existing installation: greenlet 3.0.1\n",
      "    Uninstalling greenlet-3.0.1:\n",
      "      Successfully uninstalled greenlet-3.0.1\n",
      "  Attempting uninstall: cachetools\n",
      "    Found existing installation: cachetools 5.3.3\n",
      "    Uninstalling cachetools-5.3.3:\n",
      "      Successfully uninstalled cachetools-5.3.3\n",
      "  Attempting uninstall: Babel\n",
      "    Found existing installation: Babel 2.11.0\n",
      "    Uninstalling Babel-2.11.0:\n",
      "      Successfully uninstalled Babel-2.11.0\n",
      "\u001b[31mERROR: pip's dependency resolver does not currently take into account all the packages that are installed. This behaviour is the source of the following dependency conflicts.\n",
      "streamlit 1.32.0 requires tenacity<9,>=8.1.0, but you have tenacity 9.1.2 which is incompatible.\u001b[0m\u001b[31m\n",
      "\u001b[0mSuccessfully installed Babel-2.17.0 adbc-driver-manager-1.7.0 adbc-driver-sqlite-1.7.0 arro3-core-0.6.1 cachetools-5.5.2 commonmark-0.9.1 connectorx-0.4.4 deltalake-1.1.4 deprecated-1.2.18 faicons-0.2.2 fastexcel-0.15.1 gevent-25.8.2 great-tables-0.18.0 greenlet-3.2.4 htmltools-0.6.0 importlib-resources-6.5.2 mmh3-5.2.0 pyiceberg-0.9.1 pyparsing-3.2.3 setuptools-80.9.0 strictyaml-1.7.3 tenacity-9.1.2 xlsx2csv-0.8.4 xlsxwriter-3.2.5 zope.event-5.1.1\n"
     ]
    }
   ],
   "source": [
    "!pip install \"polars[all]\""
   ]
  },
  {
   "cell_type": "code",
   "execution_count": 2,
   "id": "d188a811",
   "metadata": {
    "scrolled": true,
    "slideshow": {
     "slide_type": "fragment"
    }
   },
   "outputs": [
    {
     "name": "stdout",
     "output_type": "stream",
     "text": [
      "--2025-09-09 08:53:10--  https://github.com/WSU-DataScience/dsci_325_module_7_more_data_management_in_python/raw/main/sample_data.zip\n",
      "Resolving github.com (github.com)... 140.82.113.3\n",
      "Connecting to github.com (github.com)|140.82.113.3|:443... connected.\n",
      "HTTP request sent, awaiting response... 302 Found\n",
      "Location: https://raw.githubusercontent.com/WSU-DataScience/dsci_325_module_7_more_data_management_in_python/main/sample_data.zip [following]\n",
      "--2025-09-09 08:53:10--  https://raw.githubusercontent.com/WSU-DataScience/dsci_325_module_7_more_data_management_in_python/main/sample_data.zip\n",
      "Resolving raw.githubusercontent.com (raw.githubusercontent.com)... 185.199.111.133, 185.199.108.133, 185.199.109.133, ...\n",
      "Connecting to raw.githubusercontent.com (raw.githubusercontent.com)|185.199.111.133|:443... connected.\n",
      "HTTP request sent, awaiting response... 200 OK\n",
      "Length: 24424242 (23M) [application/zip]\n",
      "Saving to: ‘sample_data.zip’\n",
      "\n",
      "sample_data.zip     100%[===================>]  23.29M  6.88MB/s    in 3.6s    \n",
      "\n",
      "2025-09-09 08:53:14 (6.51 MB/s) - ‘sample_data.zip’ saved [24424242/24424242]\n",
      "\n"
     ]
    }
   ],
   "source": [
    "!wget https://github.com/WSU-DataScience/dsci_325_module_7_more_data_management_in_python/raw/main/sample_data.zip"
   ]
  },
  {
   "cell_type": "code",
   "execution_count": 3,
   "id": "311d5379",
   "metadata": {
    "slideshow": {
     "slide_type": "fragment"
    }
   },
   "outputs": [
    {
     "name": "stdout",
     "output_type": "stream",
     "text": [
      "/bin/bash: line 1: unzip: command not found\n"
     ]
    }
   ],
   "source": [
    "!unzip ./sample_data.zip"
   ]
  },
  {
   "cell_type": "code",
   "execution_count": 4,
   "id": "6e90c0b4",
   "metadata": {
    "slideshow": {
     "slide_type": "fragment"
    }
   },
   "outputs": [
    {
     "name": "stdout",
     "output_type": "stream",
     "text": [
      "Collecting more_polars\n",
      "  Downloading more_polars-0.3.0-py3-none-any.whl.metadata (555 bytes)\n",
      "Collecting composable>=0.5.4 (from more_polars)\n",
      "  Downloading composable-1.3.0-py3-none-any.whl.metadata (1.3 kB)\n",
      "Requirement already satisfied: polars>=0.14.26 in /home/tmichel3796/anaconda3/lib/python3.12/site-packages (from more_polars) (1.32.3)\n",
      "Requirement already satisfied: toolz>=0.11.1 in /home/tmichel3796/anaconda3/lib/python3.12/site-packages (from composable>=0.5.4->more_polars) (0.12.0)\n",
      "Downloading more_polars-0.3.0-py3-none-any.whl (5.0 kB)\n",
      "Downloading composable-1.3.0-py3-none-any.whl (18 kB)\n",
      "Installing collected packages: composable, more_polars\n",
      "Successfully installed composable-1.3.0 more_polars-0.3.0\n"
     ]
    }
   ],
   "source": [
    "!pip install more_polars"
   ]
  },
  {
   "cell_type": "markdown",
   "id": "abc323af",
   "metadata": {
    "slideshow": {
     "slide_type": "slide"
    }
   },
   "source": [
    "# Aggregation"
   ]
  },
  {
   "cell_type": "code",
   "execution_count": 5,
   "id": "41088836",
   "metadata": {
    "slideshow": {
     "slide_type": "fragment"
    }
   },
   "outputs": [],
   "source": [
    "import polars as pl\n",
    "pl.Config.with_columns_kwargs = True"
   ]
  },
  {
   "cell_type": "markdown",
   "id": "5712c105",
   "metadata": {
    "slideshow": {
     "slide_type": "slide"
    }
   },
   "source": [
    "## What is aggregation?\n",
    "\n",
    "The act of collapsing many rows into few rows."
   ]
  },
  {
   "cell_type": "markdown",
   "id": "3622961b",
   "metadata": {
    "slideshow": {
     "slide_type": "slide"
    }
   },
   "source": [
    "## Example - Baseball pitching"
   ]
  },
  {
   "cell_type": "code",
   "execution_count": 6,
   "id": "cb7f4994",
   "metadata": {
    "scrolled": true,
    "slideshow": {
     "slide_type": "fragment"
    }
   },
   "outputs": [
    {
     "ename": "FileNotFoundError",
     "evalue": "No such file or directory (os error 2): ./sample_data/baseball/core/Pitching.csv",
     "output_type": "error",
     "traceback": [
      "\u001b[0;31m---------------------------------------------------------------------------\u001b[0m",
      "\u001b[0;31mFileNotFoundError\u001b[0m                         Traceback (most recent call last)",
      "Cell \u001b[0;32mIn[6], line 1\u001b[0m\n\u001b[0;32m----> 1\u001b[0m pitching \u001b[38;5;241m=\u001b[39m pl\u001b[38;5;241m.\u001b[39mread_csv(\u001b[38;5;124m'\u001b[39m\u001b[38;5;124m./sample_data/baseball/core/Pitching.csv\u001b[39m\u001b[38;5;124m'\u001b[39m) \n\u001b[1;32m      2\u001b[0m pitching\u001b[38;5;241m.\u001b[39mhead()\n",
      "File \u001b[0;32m~/anaconda3/lib/python3.12/site-packages/polars/_utils/deprecation.py:128\u001b[0m, in \u001b[0;36mdeprecate_renamed_parameter.<locals>.decorate.<locals>.wrapper\u001b[0;34m(*args, **kwargs)\u001b[0m\n\u001b[1;32m    123\u001b[0m \u001b[38;5;129m@wraps\u001b[39m(function)\n\u001b[1;32m    124\u001b[0m \u001b[38;5;28;01mdef\u001b[39;00m \u001b[38;5;21mwrapper\u001b[39m(\u001b[38;5;241m*\u001b[39margs: P\u001b[38;5;241m.\u001b[39margs, \u001b[38;5;241m*\u001b[39m\u001b[38;5;241m*\u001b[39mkwargs: P\u001b[38;5;241m.\u001b[39mkwargs) \u001b[38;5;241m-\u001b[39m\u001b[38;5;241m>\u001b[39m T:\n\u001b[1;32m    125\u001b[0m     _rename_keyword_argument(\n\u001b[1;32m    126\u001b[0m         old_name, new_name, kwargs, function\u001b[38;5;241m.\u001b[39m\u001b[38;5;18m__qualname__\u001b[39m, version\n\u001b[1;32m    127\u001b[0m     )\n\u001b[0;32m--> 128\u001b[0m     \u001b[38;5;28;01mreturn\u001b[39;00m function(\u001b[38;5;241m*\u001b[39margs, \u001b[38;5;241m*\u001b[39m\u001b[38;5;241m*\u001b[39mkwargs)\n",
      "File \u001b[0;32m~/anaconda3/lib/python3.12/site-packages/polars/_utils/deprecation.py:128\u001b[0m, in \u001b[0;36mdeprecate_renamed_parameter.<locals>.decorate.<locals>.wrapper\u001b[0;34m(*args, **kwargs)\u001b[0m\n\u001b[1;32m    123\u001b[0m \u001b[38;5;129m@wraps\u001b[39m(function)\n\u001b[1;32m    124\u001b[0m \u001b[38;5;28;01mdef\u001b[39;00m \u001b[38;5;21mwrapper\u001b[39m(\u001b[38;5;241m*\u001b[39margs: P\u001b[38;5;241m.\u001b[39margs, \u001b[38;5;241m*\u001b[39m\u001b[38;5;241m*\u001b[39mkwargs: P\u001b[38;5;241m.\u001b[39mkwargs) \u001b[38;5;241m-\u001b[39m\u001b[38;5;241m>\u001b[39m T:\n\u001b[1;32m    125\u001b[0m     _rename_keyword_argument(\n\u001b[1;32m    126\u001b[0m         old_name, new_name, kwargs, function\u001b[38;5;241m.\u001b[39m\u001b[38;5;18m__qualname__\u001b[39m, version\n\u001b[1;32m    127\u001b[0m     )\n\u001b[0;32m--> 128\u001b[0m     \u001b[38;5;28;01mreturn\u001b[39;00m function(\u001b[38;5;241m*\u001b[39margs, \u001b[38;5;241m*\u001b[39m\u001b[38;5;241m*\u001b[39mkwargs)\n",
      "File \u001b[0;32m~/anaconda3/lib/python3.12/site-packages/polars/_utils/deprecation.py:128\u001b[0m, in \u001b[0;36mdeprecate_renamed_parameter.<locals>.decorate.<locals>.wrapper\u001b[0;34m(*args, **kwargs)\u001b[0m\n\u001b[1;32m    123\u001b[0m \u001b[38;5;129m@wraps\u001b[39m(function)\n\u001b[1;32m    124\u001b[0m \u001b[38;5;28;01mdef\u001b[39;00m \u001b[38;5;21mwrapper\u001b[39m(\u001b[38;5;241m*\u001b[39margs: P\u001b[38;5;241m.\u001b[39margs, \u001b[38;5;241m*\u001b[39m\u001b[38;5;241m*\u001b[39mkwargs: P\u001b[38;5;241m.\u001b[39mkwargs) \u001b[38;5;241m-\u001b[39m\u001b[38;5;241m>\u001b[39m T:\n\u001b[1;32m    125\u001b[0m     _rename_keyword_argument(\n\u001b[1;32m    126\u001b[0m         old_name, new_name, kwargs, function\u001b[38;5;241m.\u001b[39m\u001b[38;5;18m__qualname__\u001b[39m, version\n\u001b[1;32m    127\u001b[0m     )\n\u001b[0;32m--> 128\u001b[0m     \u001b[38;5;28;01mreturn\u001b[39;00m function(\u001b[38;5;241m*\u001b[39margs, \u001b[38;5;241m*\u001b[39m\u001b[38;5;241m*\u001b[39mkwargs)\n",
      "File \u001b[0;32m~/anaconda3/lib/python3.12/site-packages/polars/io/csv/functions.py:549\u001b[0m, in \u001b[0;36mread_csv\u001b[0;34m(source, has_header, columns, new_columns, separator, comment_prefix, quote_char, skip_rows, skip_lines, schema, schema_overrides, null_values, missing_utf8_is_empty_string, ignore_errors, try_parse_dates, n_threads, infer_schema, infer_schema_length, batch_size, n_rows, encoding, low_memory, rechunk, use_pyarrow, storage_options, skip_rows_after_header, row_index_name, row_index_offset, sample_size, eol_char, raise_if_empty, truncate_ragged_lines, decimal_comma, glob)\u001b[0m\n\u001b[1;32m    541\u001b[0m \u001b[38;5;28;01melse\u001b[39;00m:\n\u001b[1;32m    542\u001b[0m     \u001b[38;5;28;01mwith\u001b[39;00m prepare_file_arg(\n\u001b[1;32m    543\u001b[0m         source,\n\u001b[1;32m    544\u001b[0m         encoding\u001b[38;5;241m=\u001b[39mencoding,\n\u001b[0;32m   (...)\u001b[0m\n\u001b[1;32m    547\u001b[0m         storage_options\u001b[38;5;241m=\u001b[39mstorage_options,\n\u001b[1;32m    548\u001b[0m     ) \u001b[38;5;28;01mas\u001b[39;00m data:\n\u001b[0;32m--> 549\u001b[0m         df \u001b[38;5;241m=\u001b[39m _read_csv_impl(\n\u001b[1;32m    550\u001b[0m             data,\n\u001b[1;32m    551\u001b[0m             has_header\u001b[38;5;241m=\u001b[39mhas_header,\n\u001b[1;32m    552\u001b[0m             columns\u001b[38;5;241m=\u001b[39mcolumns \u001b[38;5;28;01mif\u001b[39;00m columns \u001b[38;5;28;01melse\u001b[39;00m projection,\n\u001b[1;32m    553\u001b[0m             separator\u001b[38;5;241m=\u001b[39mseparator,\n\u001b[1;32m    554\u001b[0m             comment_prefix\u001b[38;5;241m=\u001b[39mcomment_prefix,\n\u001b[1;32m    555\u001b[0m             quote_char\u001b[38;5;241m=\u001b[39mquote_char,\n\u001b[1;32m    556\u001b[0m             skip_rows\u001b[38;5;241m=\u001b[39mskip_rows,\n\u001b[1;32m    557\u001b[0m             skip_lines\u001b[38;5;241m=\u001b[39mskip_lines,\n\u001b[1;32m    558\u001b[0m             schema_overrides\u001b[38;5;241m=\u001b[39mschema_overrides,\n\u001b[1;32m    559\u001b[0m             schema\u001b[38;5;241m=\u001b[39mschema,\n\u001b[1;32m    560\u001b[0m             null_values\u001b[38;5;241m=\u001b[39mnull_values,\n\u001b[1;32m    561\u001b[0m             missing_utf8_is_empty_string\u001b[38;5;241m=\u001b[39mmissing_utf8_is_empty_string,\n\u001b[1;32m    562\u001b[0m             ignore_errors\u001b[38;5;241m=\u001b[39mignore_errors,\n\u001b[1;32m    563\u001b[0m             try_parse_dates\u001b[38;5;241m=\u001b[39mtry_parse_dates,\n\u001b[1;32m    564\u001b[0m             n_threads\u001b[38;5;241m=\u001b[39mn_threads,\n\u001b[1;32m    565\u001b[0m             infer_schema_length\u001b[38;5;241m=\u001b[39minfer_schema_length,\n\u001b[1;32m    566\u001b[0m             batch_size\u001b[38;5;241m=\u001b[39mbatch_size,\n\u001b[1;32m    567\u001b[0m             n_rows\u001b[38;5;241m=\u001b[39mn_rows,\n\u001b[1;32m    568\u001b[0m             encoding\u001b[38;5;241m=\u001b[39mencoding \u001b[38;5;28;01mif\u001b[39;00m encoding \u001b[38;5;241m==\u001b[39m \u001b[38;5;124m\"\u001b[39m\u001b[38;5;124mutf8-lossy\u001b[39m\u001b[38;5;124m\"\u001b[39m \u001b[38;5;28;01melse\u001b[39;00m \u001b[38;5;124m\"\u001b[39m\u001b[38;5;124mutf8\u001b[39m\u001b[38;5;124m\"\u001b[39m,\n\u001b[1;32m    569\u001b[0m             low_memory\u001b[38;5;241m=\u001b[39mlow_memory,\n\u001b[1;32m    570\u001b[0m             rechunk\u001b[38;5;241m=\u001b[39mrechunk,\n\u001b[1;32m    571\u001b[0m             skip_rows_after_header\u001b[38;5;241m=\u001b[39mskip_rows_after_header,\n\u001b[1;32m    572\u001b[0m             row_index_name\u001b[38;5;241m=\u001b[39mrow_index_name,\n\u001b[1;32m    573\u001b[0m             row_index_offset\u001b[38;5;241m=\u001b[39mrow_index_offset,\n\u001b[1;32m    574\u001b[0m             eol_char\u001b[38;5;241m=\u001b[39meol_char,\n\u001b[1;32m    575\u001b[0m             raise_if_empty\u001b[38;5;241m=\u001b[39mraise_if_empty,\n\u001b[1;32m    576\u001b[0m             truncate_ragged_lines\u001b[38;5;241m=\u001b[39mtruncate_ragged_lines,\n\u001b[1;32m    577\u001b[0m             decimal_comma\u001b[38;5;241m=\u001b[39mdecimal_comma,\n\u001b[1;32m    578\u001b[0m             glob\u001b[38;5;241m=\u001b[39mglob,\n\u001b[1;32m    579\u001b[0m         )\n\u001b[1;32m    581\u001b[0m \u001b[38;5;28;01mif\u001b[39;00m new_columns:\n\u001b[1;32m    582\u001b[0m     \u001b[38;5;28;01mreturn\u001b[39;00m _update_columns(df, new_columns)\n",
      "File \u001b[0;32m~/anaconda3/lib/python3.12/site-packages/polars/io/csv/functions.py:697\u001b[0m, in \u001b[0;36m_read_csv_impl\u001b[0;34m(source, has_header, columns, separator, comment_prefix, quote_char, skip_rows, skip_lines, schema, schema_overrides, null_values, missing_utf8_is_empty_string, ignore_errors, try_parse_dates, n_threads, infer_schema_length, batch_size, n_rows, encoding, low_memory, rechunk, skip_rows_after_header, row_index_name, row_index_offset, sample_size, eol_char, raise_if_empty, truncate_ragged_lines, decimal_comma, glob)\u001b[0m\n\u001b[1;32m    693\u001b[0m         \u001b[38;5;28;01mraise\u001b[39;00m \u001b[38;5;167;01mValueError\u001b[39;00m(msg)\n\u001b[1;32m    695\u001b[0m projection, columns \u001b[38;5;241m=\u001b[39m parse_columns_arg(columns)\n\u001b[0;32m--> 697\u001b[0m pydf \u001b[38;5;241m=\u001b[39m PyDataFrame\u001b[38;5;241m.\u001b[39mread_csv(\n\u001b[1;32m    698\u001b[0m     source,\n\u001b[1;32m    699\u001b[0m     infer_schema_length,\n\u001b[1;32m    700\u001b[0m     batch_size,\n\u001b[1;32m    701\u001b[0m     has_header,\n\u001b[1;32m    702\u001b[0m     ignore_errors,\n\u001b[1;32m    703\u001b[0m     n_rows,\n\u001b[1;32m    704\u001b[0m     skip_rows,\n\u001b[1;32m    705\u001b[0m     skip_lines,\n\u001b[1;32m    706\u001b[0m     projection,\n\u001b[1;32m    707\u001b[0m     separator,\n\u001b[1;32m    708\u001b[0m     rechunk,\n\u001b[1;32m    709\u001b[0m     columns,\n\u001b[1;32m    710\u001b[0m     encoding,\n\u001b[1;32m    711\u001b[0m     n_threads,\n\u001b[1;32m    712\u001b[0m     path,\n\u001b[1;32m    713\u001b[0m     dtype_list,\n\u001b[1;32m    714\u001b[0m     dtype_slice,\n\u001b[1;32m    715\u001b[0m     low_memory,\n\u001b[1;32m    716\u001b[0m     comment_prefix,\n\u001b[1;32m    717\u001b[0m     quote_char,\n\u001b[1;32m    718\u001b[0m     processed_null_values,\n\u001b[1;32m    719\u001b[0m     missing_utf8_is_empty_string,\n\u001b[1;32m    720\u001b[0m     try_parse_dates,\n\u001b[1;32m    721\u001b[0m     skip_rows_after_header,\n\u001b[1;32m    722\u001b[0m     parse_row_index_args(row_index_name, row_index_offset),\n\u001b[1;32m    723\u001b[0m     eol_char\u001b[38;5;241m=\u001b[39meol_char,\n\u001b[1;32m    724\u001b[0m     raise_if_empty\u001b[38;5;241m=\u001b[39mraise_if_empty,\n\u001b[1;32m    725\u001b[0m     truncate_ragged_lines\u001b[38;5;241m=\u001b[39mtruncate_ragged_lines,\n\u001b[1;32m    726\u001b[0m     decimal_comma\u001b[38;5;241m=\u001b[39mdecimal_comma,\n\u001b[1;32m    727\u001b[0m     schema\u001b[38;5;241m=\u001b[39mschema,\n\u001b[1;32m    728\u001b[0m )\n\u001b[1;32m    729\u001b[0m \u001b[38;5;28;01mreturn\u001b[39;00m wrap_df(pydf)\n",
      "\u001b[0;31mFileNotFoundError\u001b[0m: No such file or directory (os error 2): ./sample_data/baseball/core/Pitching.csv"
     ]
    }
   ],
   "source": [
    "pitching = pl.read_csv('./sample_data/baseball/core/Pitching.csv') \n",
    "pitching.head()"
   ]
  },
  {
   "cell_type": "markdown",
   "id": "228e2670",
   "metadata": {
    "slideshow": {
     "slide_type": "slide"
    }
   },
   "source": [
    "## Simple Aggregation\n",
    "\n",
    "A **simple aggregation** collapses all rows into one row.\n",
    "\n",
    "<img src=\"https://github.com/WSU-DataScience/dsci_325_module_7_more_data_management_in_python/raw/main/img/simple_aggregation.png\" width=800>"
   ]
  },
  {
   "cell_type": "markdown",
   "id": "6f572471",
   "metadata": {
    "slideshow": {
     "slide_type": "slide"
    }
   },
   "source": [
    "### Simple aggregation with `df.select`"
   ]
  },
  {
   "cell_type": "code",
   "execution_count": null,
   "id": "f9702e21",
   "metadata": {},
   "outputs": [],
   "source": [
    "(pitching\n",
    "  .select([pl.col('ERA').mean().alias('Mean Hits'),\n",
    "           pl.col('ERA').std().alias('SD Hits'),\n",
    "           pl.col('W').min().alias('Min Wins'),\n",
    "           pl.col('W').max().alias('Max Wins'),\n",
    "          ])\n",
    ")"
   ]
  },
  {
   "cell_type": "markdown",
   "id": "94771f6f",
   "metadata": {
    "slideshow": {
     "slide_type": "slide"
    }
   },
   "source": [
    "### Coding Best Practice - Spreading code over many lines improves readability\n",
    "\n",
    "<img src=\"https://github.com/WSU-DataScience/dsci_325_module_7_more_data_management_in_python/raw/main/img/readable_simple_aggregation.png\" width=\"600\">"
   ]
  },
  {
   "cell_type": "code",
   "execution_count": null,
   "id": "cf5a0a66",
   "metadata": {
    "slideshow": {
     "slide_type": "subslide"
    }
   },
   "outputs": [],
   "source": [
    "(pitching\n",
    "  .select([pl.col('ERA')\n",
    "             .mean()\n",
    "             .alias('Mean ERA'),\n",
    "           pl.col('ERA')\n",
    "             .std()\n",
    "             .alias('SD ERA'),\n",
    "           pl.col('W')\n",
    "             .min()\n",
    "             .alias('Min Wins'),\n",
    "           pl.col('W')\n",
    "             .max()\n",
    "             .alias('Max Wins'),\n",
    "          ])\n",
    ")"
   ]
  },
  {
   "cell_type": "markdown",
   "id": "d0e19955",
   "metadata": {
    "slideshow": {
     "slide_type": "slide"
    }
   },
   "source": [
    "### What makes this a simple aggregation?\n",
    "\n",
    "<img src=\"https://github.com/WSU-DataScience/dsci_325_module_7_more_data_management_in_python/raw/main/img/identify_simple_aggregation.png\" width=\"600\">"
   ]
  },
  {
   "cell_type": "markdown",
   "id": "ed5586c0",
   "metadata": {
    "slideshow": {
     "slide_type": "slide"
    }
   },
   "source": [
    "#### Simple aggregation with a filter."
   ]
  },
  {
   "cell_type": "code",
   "execution_count": null,
   "id": "c48578b1",
   "metadata": {
    "slideshow": {
     "slide_type": "fragment"
    }
   },
   "outputs": [],
   "source": [
    "(pitching\n",
    "  .select([pl.col('W')\n",
    "             .filter(pl.col('yearID') >= 1946)\n",
    "             .mean()\n",
    "             .alias('Avg Wins per Season (post WW2)'),\n",
    "           pl.col('W')\n",
    "             .filter((1918 <= pl.col('yearID')) & (pl.col('yearID') <= 1938))\n",
    "             .mean()\n",
    "             .alias('Avg Wins per Season (Interwar)'),\n",
    "          ])\n",
    ")"
   ]
  },
  {
   "cell_type": "markdown",
   "id": "33855b43",
   "metadata": {
    "slideshow": {
     "slide_type": "slide"
    }
   },
   "source": [
    "## <font color=\"red\"> Exercise 7.1.1 </font>\n",
    "\n",
    "The [dead ball era](https://en.wikipedia.org/wiki/Dead-ball_era) in MLB includes the year from about 1900 to 1918, which was known for a low number of runs per game.  After this period, the number of runs per game increased dramatically and one possible reason for this change was a changes made to the baseball at the start of the 1920 season.    \n",
    "\n",
    "**Tasks:** Complete that following tasks using `pandas` and `dfply`\n",
    "\n",
    "* Compute the average runs allowed per pitcher (column `R`) for the following two ranges of years: \n",
    "    * 1900-1919 and \n",
    "    * 1920-1939.  \n",
    "* Is there evidence of a difference in the number of runs allowed for each era?"
   ]
  },
  {
   "cell_type": "code",
   "execution_count": null,
   "id": "6f053d14",
   "metadata": {
    "slideshow": {
     "slide_type": "fragment"
    }
   },
   "outputs": [],
   "source": [
    "# Your code here"
   ]
  },
  {
   "cell_type": "markdown",
   "id": "fae37f77",
   "metadata": {
    "slideshow": {
     "slide_type": "fragment"
    }
   },
   "source": [
    "> *Your thoughts here*"
   ]
  },
  {
   "cell_type": "markdown",
   "id": "b3941322",
   "metadata": {
    "slideshow": {
     "slide_type": "slide"
    }
   },
   "source": [
    "## Group and Aggregate\n",
    "\n",
    "Group and aggregate\n",
    "\n",
    "* combines multiple filter + aggregates\n",
    "* considers all possible groups."
   ]
  },
  {
   "cell_type": "markdown",
   "id": "26f8642b",
   "metadata": {
    "slideshow": {
     "slide_type": "slide"
    }
   },
   "source": [
    "<img src=\"https://github.com/WSU-DataScience/dsci_325_module_7_more_data_management_in_python/raw/main/img/group_and_aggregate.png\" width=800>"
   ]
  },
  {
   "cell_type": "markdown",
   "id": "b0d3c0e0",
   "metadata": {
    "slideshow": {
     "slide_type": "slide"
    }
   },
   "source": [
    "## Using `when/then` to classify the years"
   ]
  },
  {
   "cell_type": "code",
   "execution_count": null,
   "id": "51bab5cd",
   "metadata": {
    "slideshow": {
     "slide_type": "fragment"
    }
   },
   "outputs": [],
   "source": [
    "eras = (pitching\n",
    "        .select(['yearID', 'R'])\n",
    "        .filter((pl.col('yearID') >= 1900) & (pl.col('yearID') < 1939))\n",
    "        .with_columns(era = pl.when(pl.col('yearID') < 1920)\n",
    "                              .then(pl.lit('dead ball'))\n",
    "                              .otherwise(pl.lit('live ball'))\n",
    "                     )\n",
    "       )\n",
    "eras.head()"
   ]
  },
  {
   "cell_type": "markdown",
   "id": "2714ddfe",
   "metadata": {
    "slideshow": {
     "slide_type": "slide"
    }
   },
   "source": [
    "<img src=\"https://github.com/WSU-DataScience/dsci_325_module_7_more_data_management_in_python/raw/main/img/filter_group_aggregate.png\" width=800>\n",
    "\n",
    "What we did here is actually `filter + groupby + aggregate`"
   ]
  },
  {
   "cell_type": "markdown",
   "id": "4449bf4d",
   "metadata": {
    "slideshow": {
     "slide_type": "slide"
    }
   },
   "source": [
    "## Using `df.group_by` and `df.agg` "
   ]
  },
  {
   "cell_type": "code",
   "execution_count": null,
   "id": "1c710d84",
   "metadata": {
    "scrolled": true,
    "slideshow": {
     "slide_type": "fragment"
    }
   },
   "outputs": [],
   "source": [
    "mean_runs = (eras\n",
    "             .group_by(pl.col('era'))\n",
    "             .agg(mean_runs = pl.col('R').mean())\n",
    "            )\n",
    "mean_runs"
   ]
  },
  {
   "cell_type": "markdown",
   "id": "e9f76259",
   "metadata": {
    "slideshow": {
     "slide_type": "slide"
    }
   },
   "source": [
    "## Visualizing the data with `seaborn`"
   ]
  },
  {
   "cell_type": "code",
   "execution_count": null,
   "id": "9b100a84",
   "metadata": {
    "slideshow": {
     "slide_type": "fragment"
    }
   },
   "outputs": [],
   "source": [
    "import seaborn as sns\n",
    "import matplotlib.pylab as plt\n",
    "%matplotlib inline\n",
    "sns.barplot(x = \"era\", y=\"mean_runs\", data=mean_runs.to_pandas()) #seaborn needs a pandas.Dataframe"
   ]
  },
  {
   "cell_type": "markdown",
   "id": "a50fc68f",
   "metadata": {
    "slideshow": {
     "slide_type": "slide"
    }
   },
   "source": [
    "## <font color=\"red\"> Exercise 7.1.2 </font>\n",
    "\n",
    "Compose the two queries into one piped expression (filter + mutate + group_by + summarise)"
   ]
  },
  {
   "cell_type": "code",
   "execution_count": null,
   "id": "b10b4e40",
   "metadata": {
    "slideshow": {
     "slide_type": "fragment"
    }
   },
   "outputs": [],
   "source": [
    "# Your code here"
   ]
  },
  {
   "cell_type": "markdown",
   "id": "36f49c54",
   "metadata": {
    "slideshow": {
     "slide_type": "slide"
    }
   },
   "source": [
    "## Grouping by more than one category\n",
    "\n",
    "* `groupby` accepts multiple columns\n",
    "* Groups all combinations"
   ]
  },
  {
   "cell_type": "markdown",
   "id": "2a5c0eca",
   "metadata": {
    "slideshow": {
     "slide_type": "slide"
    }
   },
   "source": [
    "## Example - Find all teams with 100+ wins in a season"
   ]
  },
  {
   "cell_type": "code",
   "execution_count": null,
   "id": "39992331",
   "metadata": {
    "slideshow": {
     "slide_type": "fragment"
    }
   },
   "outputs": [],
   "source": [
    "(pitching\n",
    " .select(['yearID', \n",
    "          'teamID', \n",
    "          'W',\n",
    "         ])\n",
    " .group_by(['yearID', \n",
    "           'teamID',\n",
    "          ])\n",
    " .agg(total_wins = pl.col('W').sum()\n",
    "     )\n",
    " .filter(pl.col('total_wins') >= 100)\n",
    " .sort([pl.col('yearID'), \n",
    "        pl.col('total_wins'),\n",
    "       ],\n",
    "       descending=[True, True])\n",
    ").head(10)"
   ]
  },
  {
   "cell_type": "markdown",
   "id": "6567b231",
   "metadata": {
    "slideshow": {
     "slide_type": "slide"
    }
   },
   "source": [
    "## The last comparison might not be fair\n",
    "\n",
    "Comparison is only fair if pitchers all pitch the same number of outs/games/innings.  Let's see if there is a difference between the eras in terms of outs pitched (`IPouts`)."
   ]
  },
  {
   "cell_type": "code",
   "execution_count": null,
   "id": "c66d8296",
   "metadata": {
    "slideshow": {
     "slide_type": "fragment"
    }
   },
   "outputs": [],
   "source": [
    "mean_outs = (pitching\n",
    "             .select(['IPouts', \n",
    "                      'yearID',\n",
    "                     ])\n",
    "             .filter((pl.col('yearID') >= 1900) & (pl.col('yearID') < 1940))\n",
    "             .with_columns(era = pl.when(pl.col('yearID') < 1920)\n",
    "                                   .then(pl.lit(\"dead ball\"))\n",
    "                                   .otherwise(pl.lit(\"after dead ball\"))\n",
    "                          )\n",
    "             .group_by(pl.col('era'))\n",
    "             .agg(mean_outs = pl.col('IPouts').mean())\n",
    "            )\n",
    "mean_outs.head()"
   ]
  },
  {
   "cell_type": "code",
   "execution_count": null,
   "id": "c5db6c40",
   "metadata": {
    "slideshow": {
     "slide_type": "slide"
    }
   },
   "outputs": [],
   "source": [
    "sns.barplot(x = \"era\", y=\"mean_outs\", data=mean_outs.to_pandas())"
   ]
  },
  {
   "cell_type": "markdown",
   "id": "d8102a2e",
   "metadata": {
    "slideshow": {
     "slide_type": "slide"
    }
   },
   "source": [
    "## A more fair comparison\n",
    "\n",
    "Instead of comparing the era's on a per-pitcher basis, let's compare on a per year basis.  We will\n",
    "\n",
    "1. Compute the total runs and total IPouts per year.\n",
    "2. Compute the ratio of these totals for each year.\n",
    "3. Compute the average value of the ratio for each era"
   ]
  },
  {
   "cell_type": "code",
   "execution_count": null,
   "id": "5f6133bf",
   "metadata": {
    "slideshow": {
     "slide_type": "fragment"
    }
   },
   "outputs": [],
   "source": [
    "mean_runs_per_out = (pitching\n",
    "                     .select([pl.col('IPouts'), pl.col('yearID'), pl.col('R')])\n",
    "                     .filter((pl.col('yearID') >= 1900) & (pl.col('yearID') < 1940))\n",
    "                     .group_by(pl.col('yearID'))\n",
    "                     .agg([pl.col('R').sum().alias('total_runs'),\n",
    "                           pl.col('IPouts').sum().alias('total_ipouts')\n",
    "                          ])\n",
    "                     .with_columns(runs_per_out = pl.col('total_runs')/pl.col('total_ipouts'),\n",
    "                                   era = pl.when(pl.col('yearID') < 1920)\n",
    "                                           .then(pl.lit(\"dead ball\"))\n",
    "                                           .otherwise(pl.lit(\"after dead ball\"))\n",
    "                                  )\n",
    "                     .group_by(pl.col('era'))\n",
    "                     .agg(mean_runs_per_out = pl.col('runs_per_out').mean())\n",
    "                    )\n",
    "mean_runs_per_out"
   ]
  },
  {
   "cell_type": "code",
   "execution_count": null,
   "id": "9014bc82",
   "metadata": {
    "slideshow": {
     "slide_type": "slide"
    }
   },
   "outputs": [],
   "source": [
    "sns.barplot(x = \"era\", y=\"mean_runs_per_out\", data=mean_runs_per_out.to_pandas())"
   ]
  },
  {
   "cell_type": "markdown",
   "id": "27a542c4",
   "metadata": {
    "slideshow": {
     "slide_type": "slide"
    }
   },
   "source": [
    "## <font color=\"red\"> Exercise 7.1.3 </font>\n",
    "\n",
    "It would be easier to understand this result if we were computing runs on a per-game basis.  Redo the last problem, both this time compute `mean_runs_per_9_innings`.  **Hint:** There are 27 outs in a 9 inning game."
   ]
  },
  {
   "cell_type": "code",
   "execution_count": null,
   "id": "f1bc6999",
   "metadata": {
    "slideshow": {
     "slide_type": "fragment"
    }
   },
   "outputs": [],
   "source": [
    "# Your code here"
   ]
  },
  {
   "cell_type": "markdown",
   "id": "7097ff33",
   "metadata": {
    "slideshow": {
     "slide_type": "fragment"
    }
   },
   "source": [
    "## <font color=\"red\"> Exercise 7.1.4 </font>\n",
    "\n",
    "Compute and plot the average home runs per game allowed per year for all years in the pitching table.  To accomplish this task, you should\n",
    "\n",
    "1. Aggregate total `HR` and `IPouts` for each year.\n",
    "1. Create a `games_pitched`, which is computed by dividing total inning pitched outs `IPouts` by 27, the number of outs in a regular game.\n",
    "2. Create a `hr_per_game` column by dividing the total `HR` for each year by `games_pitched` for each year.\n",
    "4. Make line plot of the results.  You can use [seaborn's lineplot](https://seaborn.pydata.org/generated/seaborn.lineplot.html) to make the graph."
   ]
  },
  {
   "cell_type": "code",
   "execution_count": null,
   "id": "fa7ec0fa",
   "metadata": {
    "slideshow": {
     "slide_type": "fragment"
    }
   },
   "outputs": [],
   "source": [
    "# Your code here"
   ]
  },
  {
   "cell_type": "code",
   "execution_count": null,
   "id": "4fc5ca7a-cf01-42b6-8fd8-317fcd82c265",
   "metadata": {},
   "outputs": [],
   "source": []
  },
  {
   "cell_type": "code",
   "execution_count": null,
   "id": "6d19fc69-9fe5-49e4-8ceb-d8426b00647f",
   "metadata": {},
   "outputs": [],
   "source": []
  }
 ],
 "metadata": {
  "celltoolbar": "Slideshow",
  "kernelspec": {
   "display_name": "Python 3 (ipykernel)",
   "language": "python",
   "name": "python3"
  },
  "language_info": {
   "codemirror_mode": {
    "name": "ipython",
    "version": 3
   },
   "file_extension": ".py",
   "mimetype": "text/x-python",
   "name": "python",
   "nbconvert_exporter": "python",
   "pygments_lexer": "ipython3",
   "version": "3.12.2"
  },
  "varInspector": {
   "cols": {
    "lenName": 16,
    "lenType": 16,
    "lenVar": 40
   },
   "kernels_config": {
    "python": {
     "delete_cmd_postfix": "",
     "delete_cmd_prefix": "del ",
     "library": "var_list.py",
     "varRefreshCmd": "print(var_dic_list())"
    },
    "r": {
     "delete_cmd_postfix": ") ",
     "delete_cmd_prefix": "rm(",
     "library": "var_list.r",
     "varRefreshCmd": "cat(var_dic_list()) "
    }
   },
   "types_to_exclude": [
    "module",
    "function",
    "builtin_function_or_method",
    "instance",
    "_Feature"
   ],
   "window_display": false
  }
 },
 "nbformat": 4,
 "nbformat_minor": 5
}
